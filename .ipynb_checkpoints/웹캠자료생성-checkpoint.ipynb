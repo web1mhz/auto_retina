{
 "cells": [
  {
   "cell_type": "code",
   "execution_count": 1,
   "metadata": {},
   "outputs": [
    {
     "name": "stdout",
     "output_type": "stream",
     "text": [
      "frame saved\n",
      "frame saved\n",
      "frame saved\n",
      "frame saved\n",
      "frame saved\n",
      "frame saved\n",
      "frame saved\n",
      "frame saved\n",
      "frame saved\n",
      "frame saved\n",
      "frame saved\n",
      "frame saved\n",
      "frame saved\n",
      "frame saved\n",
      "frame saved\n",
      "frame saved\n",
      "frame saved\n",
      "frame saved\n",
      "frame saved\n",
      "frame saved\n",
      "frame saved\n"
     ]
    }
   ],
   "source": [
    "# get the reference to the webcam\n",
    "import cv2\n",
    "\n",
    "# get the reference to the webcam\n",
    "camera = cv2.VideoCapture(0, cv2.CAP_DSHOW)\n",
    "imagesList = []\n",
    "\n",
    "\n",
    "while(True):\n",
    "   \n",
    "    _, frame = camera.read()\n",
    "    \n",
    "    cv2.imshow(\"Camera\", frame)\n",
    "\n",
    "    key = cv2.waitKey(1)\n",
    "\n",
    "    if key & 0xFF == ord(\"q\"):\n",
    "        break\n",
    "    elif key & 0xFF == ord(\"1\"):\n",
    "        imagesList.append(frame)\n",
    "        print('frame saved')\n",
    "\n",
    "\n",
    "camera.release()\n",
    "cv2.destroyAllWindows()"
   ]
  },
  {
   "cell_type": "code",
   "execution_count": null,
   "metadata": {},
   "outputs": [],
   "source": [
    "import numpy as np\n",
    "import cv2\n",
    "\n",
    "xml = 'haarcascades/haarcascade_frontalface_default.xml'\n",
    "face_cascade = cv2.CascadeClassifier(xml)\n",
    "\n",
    "cap = cv2.VideoCapture(0, cv2.CAP_DSHOW) # 노트북 웹캠을 카메라로 사용\n",
    "cap.set(3,640) # 너비\n",
    "cap.set(4,480) # 높이\n",
    "\n",
    "while(True):\n",
    "    ret, frame = cap.read()\n",
    "    frame = cv2.flip(frame, 1) # 좌우 대칭\n",
    "    gray = cv2.cvtColor(frame, cv2.COLOR_BGR2GRAY)\n",
    "\n",
    "#     faces = face_cascade.detectMultiScale(gray,1.05, 5)\n",
    "#     print(\"Number of faces detected: \" + str(len(faces)))\n",
    "\n",
    "#     if len(faces):\n",
    "#         for (x,y,w,h) in faces:\n",
    "#             cv2.rectangle(frame,(x,y),(x+w,y+h),(255,0,0),2)\n",
    "        \n",
    "    cv2.imshow('result', frame)\n",
    "    \n",
    "    k = cv2.waitKey(30) & 0xff\n",
    "    if k == 27: # Esc 키를 누르면 종료\n",
    "        break\n",
    "\n",
    "cap.release()\n",
    "cv2.destroyAllWindows()"
   ]
  },
  {
   "cell_type": "code",
   "execution_count": null,
   "metadata": {},
   "outputs": [],
   "source": []
  }
 ],
 "metadata": {
  "kernelspec": {
   "display_name": "Python [conda env:auto_retina] *",
   "language": "python",
   "name": "conda-env-auto_retina-py"
  },
  "language_info": {
   "codemirror_mode": {
    "name": "ipython",
    "version": 3
   },
   "file_extension": ".py",
   "mimetype": "text/x-python",
   "name": "python",
   "nbconvert_exporter": "python",
   "pygments_lexer": "ipython3",
   "version": "3.7.9"
  }
 },
 "nbformat": 4,
 "nbformat_minor": 4
}
