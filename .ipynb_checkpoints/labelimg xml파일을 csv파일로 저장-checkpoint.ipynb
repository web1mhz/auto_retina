{
 "cells": [
  {
   "cell_type": "code",
   "execution_count": 3,
   "metadata": {},
   "outputs": [],
   "source": [
    "import os\n",
    "import glob\n",
    "import pandas as pd\n",
    "import xml.etree.ElementTree as ET"
   ]
  },
  {
   "cell_type": "code",
   "execution_count": 4,
   "metadata": {},
   "outputs": [],
   "source": [
    "#!pip install pandas"
   ]
  },
  {
   "cell_type": "markdown",
   "metadata": {},
   "source": [
    "# 이미지 경로가 절대경로로 저장"
   ]
  },
  {
   "cell_type": "code",
   "execution_count": 26,
   "metadata": {},
   "outputs": [],
   "source": [
    "def xml_to_csv_abspath(path):\n",
    "    xml_list = []\n",
    "    for xml_file in glob.glob(path + '/*.xml'):\n",
    "        tree = ET.parse(xml_file)\n",
    "        root = tree.getroot()\n",
    "\n",
    "        for member in root.findall('object'):\n",
    "            value = (path +root.find('filename').text,\n",
    "                     int(member[4][0].text),\n",
    "                     int(member[4][1].text),\n",
    "                     int(member[4][2].text),\n",
    "                     int(member[4][3].text),\n",
    "                     member[0].text,\n",
    "                     )\n",
    "            xml_list.append(value)\n",
    "    column_name = ['filename', 'xmin','ymin','xmax', 'ymax', 'class']\n",
    "    xml_df = pd.DataFrame(xml_list, columns=column_name)\n",
    "    return xml_df\n"
   ]
  },
  {
   "cell_type": "markdown",
   "metadata": {},
   "source": [
    "# 이미지 경로가 상대경로로 저장"
   ]
  },
  {
   "cell_type": "code",
   "execution_count": 28,
   "metadata": {},
   "outputs": [],
   "source": [
    "def xml_to_csv(path):\n",
    "    xml_list = []\n",
    "    for xml_file in glob.glob(path + '/*.xml'):\n",
    "        tree = ET.parse(xml_file)\n",
    "        root = tree.getroot()\n",
    "\n",
    "        for member in root.findall('object'):\n",
    "            value = ('data/' +root.find('filename').text,\n",
    "                     int(member[4][0].text),\n",
    "                     int(member[4][1].text),\n",
    "                     int(member[4][2].text),\n",
    "                     int(member[4][3].text),\n",
    "                     member[0].text,\n",
    "                     )\n",
    "            xml_list.append(value)\n",
    "    column_name = ['filename', 'xmin','ymin','xmax', 'ymax', 'class']\n",
    "    xml_df = pd.DataFrame(xml_list, columns=column_name)\n",
    "    return xml_df\n"
   ]
  },
  {
   "cell_type": "code",
   "execution_count": 29,
   "metadata": {},
   "outputs": [
    {
     "data": {
      "text/plain": [
       "'c:\\\\auto_ml'"
      ]
     },
     "execution_count": 29,
     "metadata": {},
     "output_type": "execute_result"
    }
   ],
   "source": [
    "os.getcwd()"
   ]
  },
  {
   "cell_type": "markdown",
   "metadata": {},
   "source": [
    "## 상대경로 결과"
   ]
  },
  {
   "cell_type": "code",
   "execution_count": 103,
   "metadata": {},
   "outputs": [],
   "source": [
    "image_path = os.path.join(os.getcwd(), 'data/')\n",
    "dataset_df = xml_to_csv(image_path)\n",
    "dataset_df.to_csv(os.path.join(image_path, 'annotations_all.csv'), index=False, header=None)"
   ]
  },
  {
   "cell_type": "code",
   "execution_count": 87,
   "metadata": {},
   "outputs": [
    {
     "data": {
      "text/html": [
       "<div>\n",
       "<style scoped>\n",
       "    .dataframe tbody tr th:only-of-type {\n",
       "        vertical-align: middle;\n",
       "    }\n",
       "\n",
       "    .dataframe tbody tr th {\n",
       "        vertical-align: top;\n",
       "    }\n",
       "\n",
       "    .dataframe thead th {\n",
       "        text-align: right;\n",
       "    }\n",
       "</style>\n",
       "<table border=\"1\" class=\"dataframe\">\n",
       "  <thead>\n",
       "    <tr style=\"text-align: right;\">\n",
       "      <th></th>\n",
       "      <th>filename</th>\n",
       "      <th>xmin</th>\n",
       "      <th>ymin</th>\n",
       "      <th>xmax</th>\n",
       "      <th>ymax</th>\n",
       "      <th>class</th>\n",
       "    </tr>\n",
       "  </thead>\n",
       "  <tbody>\n",
       "    <tr>\n",
       "      <th>0</th>\n",
       "      <td>data/hand_000.png</td>\n",
       "      <td>49</td>\n",
       "      <td>10</td>\n",
       "      <td>172</td>\n",
       "      <td>224</td>\n",
       "      <td>hand</td>\n",
       "    </tr>\n",
       "    <tr>\n",
       "      <th>1</th>\n",
       "      <td>data/hand_001.png</td>\n",
       "      <td>43</td>\n",
       "      <td>15</td>\n",
       "      <td>161</td>\n",
       "      <td>222</td>\n",
       "      <td>hand</td>\n",
       "    </tr>\n",
       "    <tr>\n",
       "      <th>2</th>\n",
       "      <td>data/hand_002.png</td>\n",
       "      <td>2</td>\n",
       "      <td>39</td>\n",
       "      <td>102</td>\n",
       "      <td>223</td>\n",
       "      <td>hand</td>\n",
       "    </tr>\n",
       "    <tr>\n",
       "      <th>3</th>\n",
       "      <td>data/hand_003.png</td>\n",
       "      <td>1</td>\n",
       "      <td>77</td>\n",
       "      <td>59</td>\n",
       "      <td>223</td>\n",
       "      <td>hand</td>\n",
       "    </tr>\n",
       "    <tr>\n",
       "      <th>4</th>\n",
       "      <td>data/hand_004.png</td>\n",
       "      <td>22</td>\n",
       "      <td>51</td>\n",
       "      <td>115</td>\n",
       "      <td>224</td>\n",
       "      <td>hand</td>\n",
       "    </tr>\n",
       "  </tbody>\n",
       "</table>\n",
       "</div>"
      ],
      "text/plain": [
       "            filename  xmin  ymin  xmax  ymax class\n",
       "0  data/hand_000.png    49    10   172   224  hand\n",
       "1  data/hand_001.png    43    15   161   222  hand\n",
       "2  data/hand_002.png     2    39   102   223  hand\n",
       "3  data/hand_003.png     1    77    59   223  hand\n",
       "4  data/hand_004.png    22    51   115   224  hand"
      ]
     },
     "execution_count": 87,
     "metadata": {},
     "output_type": "execute_result"
    }
   ],
   "source": [
    "dataset_df.head()"
   ]
  },
  {
   "cell_type": "code",
   "execution_count": 88,
   "metadata": {},
   "outputs": [
    {
     "data": {
      "text/html": [
       "<div>\n",
       "<style scoped>\n",
       "    .dataframe tbody tr th:only-of-type {\n",
       "        vertical-align: middle;\n",
       "    }\n",
       "\n",
       "    .dataframe tbody tr th {\n",
       "        vertical-align: top;\n",
       "    }\n",
       "\n",
       "    .dataframe thead th {\n",
       "        text-align: right;\n",
       "    }\n",
       "</style>\n",
       "<table border=\"1\" class=\"dataframe\">\n",
       "  <thead>\n",
       "    <tr style=\"text-align: right;\">\n",
       "      <th></th>\n",
       "      <th>filename</th>\n",
       "      <th>xmin</th>\n",
       "      <th>ymin</th>\n",
       "      <th>xmax</th>\n",
       "      <th>ymax</th>\n",
       "      <th>class</th>\n",
       "    </tr>\n",
       "  </thead>\n",
       "  <tbody>\n",
       "    <tr>\n",
       "      <th>146</th>\n",
       "      <td>data/hand_146.png</td>\n",
       "      <td>98</td>\n",
       "      <td>37</td>\n",
       "      <td>191</td>\n",
       "      <td>215</td>\n",
       "      <td>hand</td>\n",
       "    </tr>\n",
       "    <tr>\n",
       "      <th>147</th>\n",
       "      <td>data/hand_147.png</td>\n",
       "      <td>71</td>\n",
       "      <td>41</td>\n",
       "      <td>159</td>\n",
       "      <td>220</td>\n",
       "      <td>hand</td>\n",
       "    </tr>\n",
       "    <tr>\n",
       "      <th>148</th>\n",
       "      <td>data/hand_148.png</td>\n",
       "      <td>99</td>\n",
       "      <td>48</td>\n",
       "      <td>192</td>\n",
       "      <td>218</td>\n",
       "      <td>hand</td>\n",
       "    </tr>\n",
       "    <tr>\n",
       "      <th>149</th>\n",
       "      <td>data/hand_149.png</td>\n",
       "      <td>104</td>\n",
       "      <td>38</td>\n",
       "      <td>195</td>\n",
       "      <td>223</td>\n",
       "      <td>hand</td>\n",
       "    </tr>\n",
       "    <tr>\n",
       "      <th>150</th>\n",
       "      <td>data/hand_150.png</td>\n",
       "      <td>19</td>\n",
       "      <td>67</td>\n",
       "      <td>108</td>\n",
       "      <td>219</td>\n",
       "      <td>hand</td>\n",
       "    </tr>\n",
       "  </tbody>\n",
       "</table>\n",
       "</div>"
      ],
      "text/plain": [
       "              filename  xmin  ymin  xmax  ymax class\n",
       "146  data/hand_146.png    98    37   191   215  hand\n",
       "147  data/hand_147.png    71    41   159   220  hand\n",
       "148  data/hand_148.png    99    48   192   218  hand\n",
       "149  data/hand_149.png   104    38   195   223  hand\n",
       "150  data/hand_150.png    19    67   108   219  hand"
      ]
     },
     "execution_count": 88,
     "metadata": {},
     "output_type": "execute_result"
    }
   ],
   "source": [
    "dataset_df.tail()"
   ]
  },
  {
   "cell_type": "markdown",
   "metadata": {},
   "source": [
    "## 절대경로 결과"
   ]
  },
  {
   "cell_type": "code",
   "execution_count": 104,
   "metadata": {},
   "outputs": [],
   "source": [
    "image_path = os.path.join(os.getcwd(), 'data/')\n",
    "dataset_df_abs = xml_to_csv_abspath(image_path)\n",
    "dataset_df_abs.to_csv(os.path.join(image_path, 'annotations_abs_all.csv'), index=False, header=None)"
   ]
  },
  {
   "cell_type": "code",
   "execution_count": 90,
   "metadata": {},
   "outputs": [
    {
     "data": {
      "text/plain": [
       "(151, 6)"
      ]
     },
     "execution_count": 90,
     "metadata": {},
     "output_type": "execute_result"
    }
   ],
   "source": [
    "dataset_df_abs.shape"
   ]
  },
  {
   "cell_type": "code",
   "execution_count": 91,
   "metadata": {},
   "outputs": [
    {
     "data": {
      "text/html": [
       "<div>\n",
       "<style scoped>\n",
       "    .dataframe tbody tr th:only-of-type {\n",
       "        vertical-align: middle;\n",
       "    }\n",
       "\n",
       "    .dataframe tbody tr th {\n",
       "        vertical-align: top;\n",
       "    }\n",
       "\n",
       "    .dataframe thead th {\n",
       "        text-align: right;\n",
       "    }\n",
       "</style>\n",
       "<table border=\"1\" class=\"dataframe\">\n",
       "  <thead>\n",
       "    <tr style=\"text-align: right;\">\n",
       "      <th></th>\n",
       "      <th>filename</th>\n",
       "      <th>xmin</th>\n",
       "      <th>ymin</th>\n",
       "      <th>xmax</th>\n",
       "      <th>ymax</th>\n",
       "      <th>class</th>\n",
       "    </tr>\n",
       "  </thead>\n",
       "  <tbody>\n",
       "    <tr>\n",
       "      <th>0</th>\n",
       "      <td>c:\\auto_ml\\data/hand_000.png</td>\n",
       "      <td>49</td>\n",
       "      <td>10</td>\n",
       "      <td>172</td>\n",
       "      <td>224</td>\n",
       "      <td>hand</td>\n",
       "    </tr>\n",
       "    <tr>\n",
       "      <th>1</th>\n",
       "      <td>c:\\auto_ml\\data/hand_001.png</td>\n",
       "      <td>43</td>\n",
       "      <td>15</td>\n",
       "      <td>161</td>\n",
       "      <td>222</td>\n",
       "      <td>hand</td>\n",
       "    </tr>\n",
       "    <tr>\n",
       "      <th>2</th>\n",
       "      <td>c:\\auto_ml\\data/hand_002.png</td>\n",
       "      <td>2</td>\n",
       "      <td>39</td>\n",
       "      <td>102</td>\n",
       "      <td>223</td>\n",
       "      <td>hand</td>\n",
       "    </tr>\n",
       "    <tr>\n",
       "      <th>3</th>\n",
       "      <td>c:\\auto_ml\\data/hand_003.png</td>\n",
       "      <td>1</td>\n",
       "      <td>77</td>\n",
       "      <td>59</td>\n",
       "      <td>223</td>\n",
       "      <td>hand</td>\n",
       "    </tr>\n",
       "    <tr>\n",
       "      <th>4</th>\n",
       "      <td>c:\\auto_ml\\data/hand_004.png</td>\n",
       "      <td>22</td>\n",
       "      <td>51</td>\n",
       "      <td>115</td>\n",
       "      <td>224</td>\n",
       "      <td>hand</td>\n",
       "    </tr>\n",
       "  </tbody>\n",
       "</table>\n",
       "</div>"
      ],
      "text/plain": [
       "                       filename  xmin  ymin  xmax  ymax class\n",
       "0  c:\\auto_ml\\data/hand_000.png    49    10   172   224  hand\n",
       "1  c:\\auto_ml\\data/hand_001.png    43    15   161   222  hand\n",
       "2  c:\\auto_ml\\data/hand_002.png     2    39   102   223  hand\n",
       "3  c:\\auto_ml\\data/hand_003.png     1    77    59   223  hand\n",
       "4  c:\\auto_ml\\data/hand_004.png    22    51   115   224  hand"
      ]
     },
     "execution_count": 91,
     "metadata": {},
     "output_type": "execute_result"
    }
   ],
   "source": [
    "dataset_df_abs.head()"
   ]
  },
  {
   "cell_type": "code",
   "execution_count": 92,
   "metadata": {},
   "outputs": [
    {
     "data": {
      "text/html": [
       "<div>\n",
       "<style scoped>\n",
       "    .dataframe tbody tr th:only-of-type {\n",
       "        vertical-align: middle;\n",
       "    }\n",
       "\n",
       "    .dataframe tbody tr th {\n",
       "        vertical-align: top;\n",
       "    }\n",
       "\n",
       "    .dataframe thead th {\n",
       "        text-align: right;\n",
       "    }\n",
       "</style>\n",
       "<table border=\"1\" class=\"dataframe\">\n",
       "  <thead>\n",
       "    <tr style=\"text-align: right;\">\n",
       "      <th></th>\n",
       "      <th>filename</th>\n",
       "      <th>xmin</th>\n",
       "      <th>ymin</th>\n",
       "      <th>xmax</th>\n",
       "      <th>ymax</th>\n",
       "      <th>class</th>\n",
       "    </tr>\n",
       "  </thead>\n",
       "  <tbody>\n",
       "    <tr>\n",
       "      <th>146</th>\n",
       "      <td>c:\\auto_ml\\data/hand_146.png</td>\n",
       "      <td>98</td>\n",
       "      <td>37</td>\n",
       "      <td>191</td>\n",
       "      <td>215</td>\n",
       "      <td>hand</td>\n",
       "    </tr>\n",
       "    <tr>\n",
       "      <th>147</th>\n",
       "      <td>c:\\auto_ml\\data/hand_147.png</td>\n",
       "      <td>71</td>\n",
       "      <td>41</td>\n",
       "      <td>159</td>\n",
       "      <td>220</td>\n",
       "      <td>hand</td>\n",
       "    </tr>\n",
       "    <tr>\n",
       "      <th>148</th>\n",
       "      <td>c:\\auto_ml\\data/hand_148.png</td>\n",
       "      <td>99</td>\n",
       "      <td>48</td>\n",
       "      <td>192</td>\n",
       "      <td>218</td>\n",
       "      <td>hand</td>\n",
       "    </tr>\n",
       "    <tr>\n",
       "      <th>149</th>\n",
       "      <td>c:\\auto_ml\\data/hand_149.png</td>\n",
       "      <td>104</td>\n",
       "      <td>38</td>\n",
       "      <td>195</td>\n",
       "      <td>223</td>\n",
       "      <td>hand</td>\n",
       "    </tr>\n",
       "    <tr>\n",
       "      <th>150</th>\n",
       "      <td>c:\\auto_ml\\data/hand_150.png</td>\n",
       "      <td>19</td>\n",
       "      <td>67</td>\n",
       "      <td>108</td>\n",
       "      <td>219</td>\n",
       "      <td>hand</td>\n",
       "    </tr>\n",
       "  </tbody>\n",
       "</table>\n",
       "</div>"
      ],
      "text/plain": [
       "                         filename  xmin  ymin  xmax  ymax class\n",
       "146  c:\\auto_ml\\data/hand_146.png    98    37   191   215  hand\n",
       "147  c:\\auto_ml\\data/hand_147.png    71    41   159   220  hand\n",
       "148  c:\\auto_ml\\data/hand_148.png    99    48   192   218  hand\n",
       "149  c:\\auto_ml\\data/hand_149.png   104    38   195   223  hand\n",
       "150  c:\\auto_ml\\data/hand_150.png    19    67   108   219  hand"
      ]
     },
     "execution_count": 92,
     "metadata": {},
     "output_type": "execute_result"
    }
   ],
   "source": [
    "dataset_df_abs.tail()"
   ]
  },
  {
   "cell_type": "markdown",
   "metadata": {},
   "source": [
    "# 학습데이터 확인"
   ]
  },
  {
   "cell_type": "code",
   "execution_count": 93,
   "metadata": {
    "scrolled": true
   },
   "outputs": [],
   "source": [
    "import skimage.io as io\n",
    "import matplotlib.pyplot as plt\n",
    "from sklearn.model_selection import train_test_split\n",
    "import matplotlib.patches as patches\n",
    "\n",
    "%matplotlib inline"
   ]
  },
  {
   "cell_type": "code",
   "execution_count": 94,
   "metadata": {},
   "outputs": [],
   "source": [
    "def showObjects(image_df):\n",
    "\n",
    "    img_path = image_df.filename\n",
    "\n",
    "    image = io.imread(img_path)\n",
    "    draw = image.copy()\n",
    "    \n",
    "    # Create figure and axes\n",
    "    fig,ax = plt.subplots(1)\n",
    "    ax.imshow(draw)\n",
    "    rect = patches.Rectangle((image_df.xmin,image_df.ymin),image_df.xmax-image_df.xmin,image_df.ymax-image_df.ymin,linewidth=1,edgecolor='r',facecolor='none')\n",
    "\n",
    "    plt.axis('off')\n",
    "    ax.add_patch(rect)\n",
    "    plt.show()"
   ]
  },
  {
   "cell_type": "code",
   "execution_count": 95,
   "metadata": {},
   "outputs": [
    {
     "data": {
      "image/png": "[encoded data removed]",
      "text/plain": [
       "<Figure size 432x288 with 1 Axes>"
      ]
     },
     "metadata": {
      "needs_background": "light"
     },
     "output_type": "display_data"
    }
   ],
   "source": [
    "showObjects(dataset_df.iloc[120])"
   ]
  },
  {
   "cell_type": "code",
   "execution_count": 96,
   "metadata": {},
   "outputs": [],
   "source": [
    "# 학습데이터와 검즏데이터 분리"
   ]
  },
  {
   "cell_type": "code",
   "execution_count": 105,
   "metadata": {},
   "outputs": [],
   "source": [
    "# DIVIDIR DATASET\n",
    "train_df, test_df = train_test_split(\n",
    "  dataset_df, \n",
    "  test_size=0.2, \n",
    "  random_state=2\n",
    ")\n"
   ]
  },
  {
   "cell_type": "code",
   "execution_count": 106,
   "metadata": {},
   "outputs": [
    {
     "name": "stdout",
     "output_type": "stream",
     "text": [
      "(120, 6)\n"
     ]
    }
   ],
   "source": [
    "print(train_df.shape)"
   ]
  },
  {
   "cell_type": "code",
   "execution_count": 107,
   "metadata": {},
   "outputs": [
    {
     "name": "stdout",
     "output_type": "stream",
     "text": [
      "(31, 6)\n"
     ]
    }
   ],
   "source": [
    "print(test_df.shape)"
   ]
  },
  {
   "cell_type": "code",
   "execution_count": 109,
   "metadata": {},
   "outputs": [],
   "source": [
    "# CREAR ARCHIVOS CSV\n",
    "train_df.to_csv('data/annotations.csv', index=False, header=None)\n",
    "test_df.to_csv('data/annotations_test.csv', index=False, header=None)"
   ]
  },
  {
   "cell_type": "code",
   "execution_count": 110,
   "metadata": {},
   "outputs": [
    {
     "name": "stdout",
     "output_type": "stream",
     "text": [
      "{'hand'}\n"
     ]
    }
   ],
   "source": [
    "classes = set(['hand'])\n",
    "print(classes)"
   ]
  },
  {
   "cell_type": "code",
   "execution_count": 111,
   "metadata": {},
   "outputs": [],
   "source": [
    "with open('data/classes.csv', 'w') as f:\n",
    "    for i, line in enumerate(sorted(classes)):\n",
    "        f.write('{},{}\\n'.format(line,i))"
   ]
  }
 ],
 "metadata": {
  "kernelspec": {
   "display_name": "Python [conda env:auto_retina] *",
   "language": "python",
   "name": "conda-env-auto_retina-py"
  },
  "language_info": {
   "codemirror_mode": {
    "name": "ipython",
    "version": 3
   },
   "file_extension": ".py",
   "mimetype": "text/x-python",
   "name": "python",
   "nbconvert_exporter": "python",
   "pygments_lexer": "ipython3",
   "version": "3.7.9"
  }
 },
 "nbformat": 4,
 "nbformat_minor": 4
}
